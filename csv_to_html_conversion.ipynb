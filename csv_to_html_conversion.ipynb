{
 "cells": [
  {
   "cell_type": "code",
   "execution_count": 1,
   "id": "5689ffb5",
   "metadata": {},
   "outputs": [
    {
     "name": "stdout",
     "output_type": "stream",
     "text": [
      "Comparisons.html              csv_to_html_conversion.ipynb\r\n",
      "Untitled.ipynb                index.html\r\n",
      "\u001b[34mWeb-Design-Challenge\u001b[m\u001b[m/\r\n"
     ]
    }
   ],
   "source": [
    "ls"
   ]
  },
  {
   "cell_type": "code",
   "execution_count": 2,
   "id": "90ca4618",
   "metadata": {},
   "outputs": [],
   "source": [
    "import pandas as pd"
   ]
  },
  {
   "cell_type": "code",
   "execution_count": 3,
   "id": "e268f690",
   "metadata": {},
   "outputs": [],
   "source": [
    "df=pd.read_csv(\"Web-Design-Challenge/resources/weatherdata.csv\")"
   ]
  },
  {
   "cell_type": "code",
   "execution_count": 4,
   "id": "1915da14",
   "metadata": {},
   "outputs": [
    {
     "data": {
      "text/html": [
       "<div>\n",
       "<style scoped>\n",
       "    .dataframe tbody tr th:only-of-type {\n",
       "        vertical-align: middle;\n",
       "    }\n",
       "\n",
       "    .dataframe tbody tr th {\n",
       "        vertical-align: top;\n",
       "    }\n",
       "\n",
       "    .dataframe thead th {\n",
       "        text-align: right;\n",
       "    }\n",
       "</style>\n",
       "<table border=\"1\" class=\"dataframe\">\n",
       "  <thead>\n",
       "    <tr style=\"text-align: right;\">\n",
       "      <th></th>\n",
       "      <th>city</th>\n",
       "      <th>temp</th>\n",
       "      <th>lat</th>\n",
       "      <th>lng</th>\n",
       "      <th>humidity</th>\n",
       "      <th>cloudiness</th>\n",
       "      <th>wind_speed</th>\n",
       "      <th>country</th>\n",
       "      <th>date</th>\n",
       "    </tr>\n",
       "  </thead>\n",
       "  <tbody>\n",
       "    <tr>\n",
       "      <th>0</th>\n",
       "      <td>George Town</td>\n",
       "      <td>31.81</td>\n",
       "      <td>5.4112</td>\n",
       "      <td>100.3354</td>\n",
       "      <td>70</td>\n",
       "      <td>20</td>\n",
       "      <td>3.60</td>\n",
       "      <td>MY</td>\n",
       "      <td>1657878205</td>\n",
       "    </tr>\n",
       "    <tr>\n",
       "      <th>1</th>\n",
       "      <td>Saint Paul Harbor</td>\n",
       "      <td>13.73</td>\n",
       "      <td>57.7900</td>\n",
       "      <td>-152.4072</td>\n",
       "      <td>82</td>\n",
       "      <td>0</td>\n",
       "      <td>2.57</td>\n",
       "      <td>US</td>\n",
       "      <td>1657878207</td>\n",
       "    </tr>\n",
       "    <tr>\n",
       "      <th>2</th>\n",
       "      <td>Aasiaat</td>\n",
       "      <td>3.51</td>\n",
       "      <td>68.7098</td>\n",
       "      <td>-52.8699</td>\n",
       "      <td>79</td>\n",
       "      <td>89</td>\n",
       "      <td>4.15</td>\n",
       "      <td>GL</td>\n",
       "      <td>1657878209</td>\n",
       "    </tr>\n",
       "    <tr>\n",
       "      <th>3</th>\n",
       "      <td>São João da Barra</td>\n",
       "      <td>21.05</td>\n",
       "      <td>-21.6403</td>\n",
       "      <td>-41.0511</td>\n",
       "      <td>89</td>\n",
       "      <td>42</td>\n",
       "      <td>4.90</td>\n",
       "      <td>BR</td>\n",
       "      <td>1657878211</td>\n",
       "    </tr>\n",
       "    <tr>\n",
       "      <th>4</th>\n",
       "      <td>Hilo</td>\n",
       "      <td>22.82</td>\n",
       "      <td>19.7297</td>\n",
       "      <td>-155.0900</td>\n",
       "      <td>95</td>\n",
       "      <td>100</td>\n",
       "      <td>2.57</td>\n",
       "      <td>US</td>\n",
       "      <td>1657878214</td>\n",
       "    </tr>\n",
       "  </tbody>\n",
       "</table>\n",
       "</div>"
      ],
      "text/plain": [
       "                city   temp      lat       lng  humidity  cloudiness  \\\n",
       "0        George Town  31.81   5.4112  100.3354        70          20   \n",
       "1  Saint Paul Harbor  13.73  57.7900 -152.4072        82           0   \n",
       "2            Aasiaat   3.51  68.7098  -52.8699        79          89   \n",
       "3  São João da Barra  21.05 -21.6403  -41.0511        89          42   \n",
       "4               Hilo  22.82  19.7297 -155.0900        95         100   \n",
       "\n",
       "   wind_speed country        date  \n",
       "0        3.60      MY  1657878205  \n",
       "1        2.57      US  1657878207  \n",
       "2        4.15      GL  1657878209  \n",
       "3        4.90      BR  1657878211  \n",
       "4        2.57      US  1657878214  "
      ]
     },
     "execution_count": 4,
     "metadata": {},
     "output_type": "execute_result"
    }
   ],
   "source": [
    "df.head()"
   ]
  },
  {
   "cell_type": "code",
   "execution_count": 5,
   "id": "52f264dd",
   "metadata": {},
   "outputs": [],
   "source": [
    "df.to_html(\"data.html\")"
   ]
  },
  {
   "cell_type": "code",
   "execution_count": 6,
   "id": "e1a10f40",
   "metadata": {},
   "outputs": [
    {
     "name": "stdout",
     "output_type": "stream",
     "text": [
      "Comparisons.html              csv_to_html_conversion.ipynb\r\n",
      "Untitled.ipynb                data.html\r\n",
      "\u001b[34mWeb-Design-Challenge\u001b[m\u001b[m/         index.html\r\n"
     ]
    }
   ],
   "source": [
    "ls"
   ]
  },
  {
   "cell_type": "code",
   "execution_count": null,
   "id": "b7cbd3e6",
   "metadata": {},
   "outputs": [],
   "source": []
  }
 ],
 "metadata": {
  "kernelspec": {
   "display_name": "Python [conda env:PythonData]",
   "language": "python",
   "name": "conda-env-PythonData-py"
  },
  "language_info": {
   "codemirror_mode": {
    "name": "ipython",
    "version": 3
   },
   "file_extension": ".py",
   "mimetype": "text/x-python",
   "name": "python",
   "nbconvert_exporter": "python",
   "pygments_lexer": "ipython3",
   "version": "3.7.11"
  }
 },
 "nbformat": 4,
 "nbformat_minor": 5
}
